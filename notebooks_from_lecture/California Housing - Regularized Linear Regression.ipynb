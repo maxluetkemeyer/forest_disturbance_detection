{
 "cells": [
  {
   "cell_type": "markdown",
   "metadata": {},
   "source": [
    "This notebook demonstrates the implementation and application of a multivariate linear regression model for the \"housing\" dataset. You can download the dataset from http://lib.stat.cmu.edu/datasets/.\n",
    "\n",
    "**Comments:** \"*The file cadata.txt contains all the the variables. Specifically, it contains median house value, median income, housing median age, total rooms, total bedrooms, population, households, latitude, and longitude in that order. The dependent variable is ln(median house value).*\""
   ]
  },
  {
   "cell_type": "code",
   "execution_count": null,
   "metadata": {},
   "outputs": [],
   "source": [
    "import numpy\n",
    "\n",
    "# load data from text file (note that the initial comments have been deleted from the original file)\n",
    "data = numpy.loadtxt(\"cadata.txt\")\n",
    "\n",
    "# the first column corresponds to the target variables; the remaining ones are the features\n"
   ]
  },
  {
   "cell_type": "code",
   "execution_count": null,
   "metadata": {},
   "outputs": [],
   "source": [
    "# Set a random seed for reproducibility and shuffle the data\n",
    "numpy.random.seed(1)\n",
    "numpy.random.shuffle(data)\n",
    "\n",
    "# Split the shuffled data into training and testing sets\n",
    "split_index = int(0.8 * len(data))  # 80% for training, 20% for testing\n",
    "train_data = data[:split_index]\n",
    "test_data = data[split_index:]\n",
    "\n",
    "# Separate features and target variables\n",
    "# the first column corresponds to the target variables; the remaining ones are the features\n",
    "X_train, y_train = train_data[:, 1:], train_data[:, 0]\n",
    "X_test, y_test = test_data[:, 1:], test_data[:, 0]"
   ]
  },
  {
   "cell_type": "markdown",
   "metadata": {},
   "source": [
    "We first load and instantiate the \"model\" object. Afterwards, we call the \"fit\" method to fit our model (i.e., to compute the weights)."
   ]
  },
  {
   "cell_type": "code",
   "execution_count": null,
   "metadata": {},
   "outputs": [],
   "source": [
    "from linreg import LinearRegression"
   ]
  },
  {
   "cell_type": "code",
   "execution_count": null,
   "metadata": {},
   "outputs": [],
   "source": [
    "model = LinearRegression(lam=0.1, penalize_constant=False)\n",
    "model.fit(X_train, y_train)"
   ]
  },
  {
   "cell_type": "markdown",
   "metadata": {},
   "source": [
    "Given the fitted model, we can now obtain predictions for new data points, i.e. our test set."
   ]
  },
  {
   "cell_type": "code",
   "execution_count": null,
   "metadata": {},
   "outputs": [],
   "source": [
    "preds = model.predict(X_test)"
   ]
  },
  {
   "cell_type": "markdown",
   "metadata": {},
   "source": [
    "Finally, we have a look at the quality of our model by computing the RMSE and by generating a plot \"predictions\" vs. \"true labels\"."
   ]
  },
  {
   "cell_type": "code",
   "execution_count": null,
   "metadata": {},
   "outputs": [],
   "source": [
    "%matplotlib inline\n",
    "import matplotlib.pyplot as plt\n",
    "from matplotlib.ticker import StrMethodFormatter\n",
    "\n",
    "from sklearn.metrics import mean_squared_error\n",
    "\n",
    "# compute RMSE\n",
    "print(\"RMSE: {}\".format(numpy.sqrt(mean_squared_error(y_test, preds))))\n",
    "\n",
    "# visualize predictions vs. true labels\n",
    "fig = plt.figure(figsize=(8,8))\n",
    "plt.scatter(preds, y_test, color=\"blue\", alpha=0.5)\n",
    "plt.xticks(rotation=45)\n",
    "plt.gca().xaxis.set_major_formatter(StrMethodFormatter('{x:,.0f}'))\n",
    "plt.plot([-100000,600000], [-100000, 600000], 'k--')\n",
    "plt.xlabel(\"Predictions\")\n",
    "plt.ylabel(\"True Labels\")\n",
    "plt.xlim([-100000,600000])\n",
    "plt.ylim([-100000,600000])\n",
    "plt.title(\"Evaluation of Regression Model\")\n",
    "plt.show()"
   ]
  },
  {
   "cell_type": "code",
   "execution_count": null,
   "metadata": {},
   "outputs": [],
   "source": []
  }
 ],
 "metadata": {
  "kernelspec": {
   "display_name": "base",
   "language": "python",
   "name": "python3"
  },
  "language_info": {
   "codemirror_mode": {
    "name": "ipython",
    "version": 3
   },
   "file_extension": ".py",
   "mimetype": "text/x-python",
   "name": "python",
   "nbconvert_exporter": "python",
   "pygments_lexer": "ipython3",
   "version": "3.11.7"
  }
 },
 "nbformat": 4,
 "nbformat_minor": 4
}
