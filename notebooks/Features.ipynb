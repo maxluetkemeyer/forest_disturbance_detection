{
 "cells": [
  {
   "cell_type": "code",
   "execution_count": 6,
   "id": "67323765",
   "metadata": {},
   "outputs": [],
   "source": [
    "import pandas as pd\n",
    "import numpy as np"
   ]
  },
  {
   "cell_type": "code",
   "execution_count": 7,
   "id": "411becb3",
   "metadata": {},
   "outputs": [
    {
     "data": {
      "application/vnd.microsoft.datawrangler.viewer.v0+json": {
       "columns": [
        {
         "name": "index",
         "rawType": "int64",
         "type": "integer"
        },
        {
         "name": "year",
         "rawType": "int64",
         "type": "integer"
        },
        {
         "name": "is_disturbance",
         "rawType": "int64",
         "type": "integer"
        },
        {
         "name": "forest_id",
         "rawType": "int64",
         "type": "integer"
        },
        {
         "name": "blue",
         "rawType": "float64",
         "type": "float"
        },
        {
         "name": "green",
         "rawType": "float64",
         "type": "float"
        },
        {
         "name": "red",
         "rawType": "float64",
         "type": "float"
        },
        {
         "name": "near_infrared",
         "rawType": "float64",
         "type": "float"
        },
        {
         "name": "shortwave_infrared_1",
         "rawType": "float64",
         "type": "float"
        },
        {
         "name": "shortwave_infrared_2",
         "rawType": "float64",
         "type": "float"
        }
       ],
       "conversionMethod": "pd.DataFrame",
       "ref": "0f1552b4-b87c-466e-a47e-33bd4fb56ff0",
       "rows": [
        [
         "0",
         "1985",
         "0",
         "87",
         "349.0",
         "714.0",
         "480.0",
         "4015.0",
         "2014.0",
         "652.0"
        ],
        [
         "1",
         "1986",
         "0",
         "87",
         "310.0",
         "507.0",
         "384.0",
         "3916.0",
         "1890.0",
         "606.0"
        ],
        [
         "2",
         "1987",
         "0",
         "87",
         "329.0",
         "606.0",
         "457.0",
         "4043.0",
         "2225.0",
         "856.0"
        ],
        [
         "3",
         "1988",
         "0",
         "87",
         "230.0",
         "500.0",
         "286.0",
         "3815.0",
         "1952.0",
         "646.0"
        ],
        [
         "4",
         "1989",
         "0",
         "87",
         "178.0",
         "491.0",
         "390.0",
         "3839.0",
         "2103.0",
         "755.0"
        ]
       ],
       "shape": {
        "columns": 9,
        "rows": 5
       }
      },
      "text/html": [
       "<div>\n",
       "<style scoped>\n",
       "    .dataframe tbody tr th:only-of-type {\n",
       "        vertical-align: middle;\n",
       "    }\n",
       "\n",
       "    .dataframe tbody tr th {\n",
       "        vertical-align: top;\n",
       "    }\n",
       "\n",
       "    .dataframe thead th {\n",
       "        text-align: right;\n",
       "    }\n",
       "</style>\n",
       "<table border=\"1\" class=\"dataframe\">\n",
       "  <thead>\n",
       "    <tr style=\"text-align: right;\">\n",
       "      <th></th>\n",
       "      <th>year</th>\n",
       "      <th>is_disturbance</th>\n",
       "      <th>forest_id</th>\n",
       "      <th>blue</th>\n",
       "      <th>green</th>\n",
       "      <th>red</th>\n",
       "      <th>near_infrared</th>\n",
       "      <th>shortwave_infrared_1</th>\n",
       "      <th>shortwave_infrared_2</th>\n",
       "    </tr>\n",
       "  </thead>\n",
       "  <tbody>\n",
       "    <tr>\n",
       "      <th>0</th>\n",
       "      <td>1985</td>\n",
       "      <td>0</td>\n",
       "      <td>87</td>\n",
       "      <td>349.0</td>\n",
       "      <td>714.0</td>\n",
       "      <td>480.0</td>\n",
       "      <td>4015.0</td>\n",
       "      <td>2014.0</td>\n",
       "      <td>652.0</td>\n",
       "    </tr>\n",
       "    <tr>\n",
       "      <th>1</th>\n",
       "      <td>1986</td>\n",
       "      <td>0</td>\n",
       "      <td>87</td>\n",
       "      <td>310.0</td>\n",
       "      <td>507.0</td>\n",
       "      <td>384.0</td>\n",
       "      <td>3916.0</td>\n",
       "      <td>1890.0</td>\n",
       "      <td>606.0</td>\n",
       "    </tr>\n",
       "    <tr>\n",
       "      <th>2</th>\n",
       "      <td>1987</td>\n",
       "      <td>0</td>\n",
       "      <td>87</td>\n",
       "      <td>329.0</td>\n",
       "      <td>606.0</td>\n",
       "      <td>457.0</td>\n",
       "      <td>4043.0</td>\n",
       "      <td>2225.0</td>\n",
       "      <td>856.0</td>\n",
       "    </tr>\n",
       "    <tr>\n",
       "      <th>3</th>\n",
       "      <td>1988</td>\n",
       "      <td>0</td>\n",
       "      <td>87</td>\n",
       "      <td>230.0</td>\n",
       "      <td>500.0</td>\n",
       "      <td>286.0</td>\n",
       "      <td>3815.0</td>\n",
       "      <td>1952.0</td>\n",
       "      <td>646.0</td>\n",
       "    </tr>\n",
       "    <tr>\n",
       "      <th>4</th>\n",
       "      <td>1989</td>\n",
       "      <td>0</td>\n",
       "      <td>87</td>\n",
       "      <td>178.0</td>\n",
       "      <td>491.0</td>\n",
       "      <td>390.0</td>\n",
       "      <td>3839.0</td>\n",
       "      <td>2103.0</td>\n",
       "      <td>755.0</td>\n",
       "    </tr>\n",
       "  </tbody>\n",
       "</table>\n",
       "</div>"
      ],
      "text/plain": [
       "   year  is_disturbance  forest_id   blue  green    red  near_infrared  \\\n",
       "0  1985               0         87  349.0  714.0  480.0         4015.0   \n",
       "1  1986               0         87  310.0  507.0  384.0         3916.0   \n",
       "2  1987               0         87  329.0  606.0  457.0         4043.0   \n",
       "3  1988               0         87  230.0  500.0  286.0         3815.0   \n",
       "4  1989               0         87  178.0  491.0  390.0         3839.0   \n",
       "\n",
       "   shortwave_infrared_1  shortwave_infrared_2  \n",
       "0                2014.0                 652.0  \n",
       "1                1890.0                 606.0  \n",
       "2                2225.0                 856.0  \n",
       "3                1952.0                 646.0  \n",
       "4                2103.0                 755.0  "
      ]
     },
     "execution_count": 7,
     "metadata": {},
     "output_type": "execute_result"
    }
   ],
   "source": [
    "\n",
    "train_df = pd.read_csv('../data/train.csv')\n",
    "train_df.head()"
   ]
  },
  {
   "cell_type": "markdown",
   "id": "0a773a27",
   "metadata": {},
   "source": [
    "Features: NDVI & NBR"
   ]
  },
  {
   "cell_type": "code",
   "execution_count": 8,
   "id": "e60f4d58",
   "metadata": {},
   "outputs": [],
   "source": [
    "# NDVI: Index für \"Greeness\" zzwischen -1 und 1\n",
    "# > 0.3 bis +1: Gesunde Vegetation (je höher, desto grüner/dichter). \n",
    "train_df['NDVI'] = (train_df['near_infrared'] - train_df['red']) / (train_df['near_infrared'] + train_df['red'])\n",
    "\n",
    "# NBR: Index für Trockenheit/Brandflächen zwischen -1 und +1\n",
    "# -0.1 bis +0.1: Trockene/Brandflächen (SWIR dominiert).\n",
    "#-1 bis -0.2: Wasser/Schatten (niedrige Reflexion in NIR und SWIR)\n",
    "train_df['NBR'] = (train_df['near_infrared'] - train_df['shortwave_infrared_2']) / (train_df['near_infrared'] + train_df['shortwave_infrared_2'])"
   ]
  },
  {
   "cell_type": "markdown",
   "id": "ce2656da",
   "metadata": {},
   "source": [
    "Feature: dNBR \n",
    "\n",
    "\n",
    "(check: https://un-spider.org/advisory-support/recommended-practices/recommended-practice-burn-severity/in-detail/normalized-burn-ratio)"
   ]
  },
  {
   "cell_type": "code",
   "execution_count": null,
   "id": "06d07465",
   "metadata": {},
   "outputs": [
    {
     "name": "stdout",
     "output_type": "stream",
     "text": [
      "        year  is_disturbance  forest_id   blue       green         red  \\\n",
      "0       1985               0         87  349.0  714.000000  480.000000   \n",
      "1       1986               0         87  310.0  507.000000  384.000000   \n",
      "2       1987               0         87  329.0  606.000000  457.000000   \n",
      "3       1988               0         87  230.0  500.000000  286.000000   \n",
      "4       1989               0         87  178.0  491.000000  390.000000   \n",
      "...      ...             ...        ...    ...         ...         ...   \n",
      "272205  2014               0      19818  205.0  434.000000  215.000000   \n",
      "272206  2015               0      19818  179.0  397.000000  249.000000   \n",
      "272207  2016               0      19818  176.0  402.333333  245.333333   \n",
      "272208  2017               0      19818  173.0  407.666667  241.666667   \n",
      "272209  2018               0      19818  170.0  413.000000  238.000000   \n",
      "\n",
      "        near_infrared  shortwave_infrared_1  shortwave_infrared_2      NDVI  \\\n",
      "0         4015.000000           2014.000000                 652.0  0.786429   \n",
      "1         3916.000000           1890.000000                 606.0  0.821395   \n",
      "2         4043.000000           2225.000000                 856.0  0.796889   \n",
      "3         3815.000000           1952.000000                 646.0  0.860522   \n",
      "4         3839.000000           2103.000000                 755.0  0.815559   \n",
      "...               ...                   ...                   ...       ...   \n",
      "272205    2566.000000            763.000000                 301.0  0.845379   \n",
      "272206    2116.000000            845.000000                 383.0  0.789429   \n",
      "272207    2240.666667            868.333333                 390.0  0.802628   \n",
      "272208    2365.333333            891.666667                 397.0  0.814602   \n",
      "272209    2490.000000            915.000000                 404.0  0.825513   \n",
      "\n",
      "             NBR      dNBR Severity_Level  SL_encoded  \n",
      "0       0.720591 -0.011386       Unburned           6  \n",
      "1       0.731977  0.081436       Unburned           6  \n",
      "2       0.650541 -0.059838       Unburned           6  \n",
      "3       0.710379  0.039068       Unburned           6  \n",
      "4       0.671310 -0.001671       Unburned           6  \n",
      "...          ...       ...            ...         ...  \n",
      "272205  0.790024  0.096547       Unburned           6  \n",
      "272206  0.693477 -0.010020       Unburned           6  \n",
      "272207  0.703497 -0.009065       Unburned           6  \n",
      "272208  0.712562 -0.008240       Unburned           6  \n",
      "272209  0.720802       NaN            NaN           7  \n",
      "\n",
      "[272210 rows x 14 columns]\n"
     ]
    }
   ],
   "source": [
    "train_df[\"dNBR\"] = train_df.groupby(\"forest_id\")[\"NBR\"].diff(-1) \n",
    "\n",
    "bins = [-float(\"inf\"), -0.251, -0.101, 0.099, 0.269, 0.439, 0.659, float(\"inf\")]\n",
    "labels = [\n",
    "    \"Enhanced Regrowth, high (post-fire)\",\n",
    "    \"Enhanced Regrowth, low (post-fire)\",\n",
    "    \"Unburned\",\n",
    "    \"Low Severity\",\n",
    "    \"Moderate-low Severity\",\n",
    "    \"Moderate-high Severity\",\n",
    "    \"High Severity\"\n",
    "]\n",
    "\n",
    "# Create category column\n",
    "train_df[\"Severity_Level\"] = pd.cut(\n",
    "    train_df[\"dNBR\"],\n",
    "    bins=bins,\n",
    "    labels=labels,\n",
    "    right=False  \n",
    ")\n",
    "\n",
    "from sklearn.preprocessing import LabelEncoder\n",
    "encoder = LabelEncoder()\n",
    "train_df[\"SL_encoded\"] = encoder.fit_transform(train_df[\"Severity_Level\"])\n",
    "print(train_df)"
   ]
  },
  {
   "cell_type": "markdown",
   "id": "a24e3383",
   "metadata": {},
   "source": [
    "Feature: TCB (Tassel Cup Brightness)\n",
    "\n",
    "Reducing noise from aged vegetation and soil characteristics \n",
    "\n",
    "Quelle: https://www.sciencedirect.com/science/article/pii/S2666017223000214\n",
    "Quelle: https://www.researchgate.net/figure/Landsat-5-TM-band-specific-weights-for-TCB-TCG-and-TCW_tbl1_273440224"
   ]
  },
  {
   "cell_type": "code",
   "execution_count": 17,
   "id": "dff3db39",
   "metadata": {},
   "outputs": [
    {
     "name": "stdout",
     "output_type": "stream",
     "text": [
      "         TCB\n",
      "0  3901.2354\n",
      "1  3663.0051\n",
      "2  4015.8815\n",
      "3  3576.7445\n",
      "4  3714.0545\n"
     ]
    }
   ],
   "source": [
    "# Define the TCB coefficients for Landsat 9\n",
    "TCB_Landsat9 = {\n",
    "    'blue': 0.3037,\n",
    "    'green': 0.2793,\n",
    "    'red': 0.4343,\n",
    "    'near_infrared': 0.5585,\n",
    "    'shortwave_infrared_1': 0.5082,\n",
    "    'shortwave_infrared_2': 0.1863\n",
    "}\n",
    "\n",
    "# Calculate the TCB index\n",
    "train_df['TCB'] = (\n",
    "    TCB_Landsat9['blue'] * train_df['blue'] +\n",
    "    TCB_Landsat9['green'] * train_df['green'] +\n",
    "    TCB_Landsat9['red'] * train_df['red'] +\n",
    "    TCB_Landsat9['near_infrared'] * train_df['near_infrared'] +\n",
    "    TCB_Landsat9['shortwave_infrared_1'] * train_df['shortwave_infrared_1'] +\n",
    "    TCB_Landsat9['shortwave_infrared_2'] * train_df['shortwave_infrared_2']\n",
    ")\n",
    "\n",
    "print(train_df[['TCB']].head())"
   ]
  },
  {
   "cell_type": "code",
   "execution_count": null,
   "id": "63d30aab",
   "metadata": {},
   "outputs": [],
   "source": []
  }
 ],
 "metadata": {
  "kernelspec": {
   "display_name": "Python 3",
   "language": "python",
   "name": "python3"
  },
  "language_info": {
   "codemirror_mode": {
    "name": "ipython",
    "version": 3
   },
   "file_extension": ".py",
   "mimetype": "text/x-python",
   "name": "python",
   "nbconvert_exporter": "python",
   "pygments_lexer": "ipython3",
   "version": "3.13.3"
  }
 },
 "nbformat": 4,
 "nbformat_minor": 5
}
