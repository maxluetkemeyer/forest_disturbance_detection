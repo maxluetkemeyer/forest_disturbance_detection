{
 "cells": [
  {
   "cell_type": "code",
   "execution_count": 14,
   "id": "99085ac9",
   "metadata": {},
   "outputs": [],
   "source": [
    "import numpy as np\n",
    "import matplotlib.pyplot as plt\n",
    "import pandas as pd\n",
    "import seaborn as sns\n",
    "from sklearn.ensemble import RandomForestClassifier\n",
    "from sklearn.metrics import classification_report, f1_score, confusion_matrix"
   ]
  },
  {
   "cell_type": "code",
   "execution_count": 2,
   "id": "b6ecd21a",
   "metadata": {},
   "outputs": [],
   "source": [
    "np.random.seed(0)"
   ]
  },
  {
   "cell_type": "code",
   "execution_count": 3,
   "id": "5460c4aa",
   "metadata": {},
   "outputs": [],
   "source": [
    "raw_df_train: pd.DataFrame = pd.read_csv(filepath_or_buffer='../../data/train.csv')\n",
    "raw_df_train.rename(\n",
    "    columns={\n",
    "        \"fid\": \"fid\",\n",
    "        \"year\": \"year\",\n",
    "        \"class\": \"is_disturbance\",\n",
    "        \"numerical_id\": \"forest_id\",\n",
    "        \"BLU\": \"blue\",\n",
    "        \"GRN\": \"green\",\n",
    "        \"RED\": \"red\",\n",
    "        \"NIR\": \"near_infrared\",\n",
    "        \"SW1\": \"shortwave_infrared_1\",\n",
    "        \"SW2\": \"shortwave_infrared_2\",\n",
    "    },\n",
    "    inplace=True,\n",
    ")\n",
    "raw_df_val: pd.DataFrame = pd.read_csv(filepath_or_buffer='../../data/validation.csv')\n",
    "raw_df_train.rename(\n",
    "    columns={\n",
    "        \"fid\": \"fid\",\n",
    "        \"year\": \"year\",\n",
    "        \"class\": \"is_disturbance\",\n",
    "        \"numerical_id\": \"forest_id\",\n",
    "        \"BLU\": \"blue\",\n",
    "        \"GRN\": \"green\",\n",
    "        \"RED\": \"red\",\n",
    "        \"NIR\": \"near_infrared\",\n",
    "        \"SW1\": \"shortwave_infrared_1\",\n",
    "        \"SW2\": \"shortwave_infrared_2\",\n",
    "    },\n",
    "    inplace=True,\n",
    ")\n",
    "raw_df_test: pd.DataFrame = pd.read_csv(filepath_or_buffer='../../data/test.csv')\n",
    "raw_df_train.rename(\n",
    "    columns={\n",
    "        \"fid\": \"fid\",\n",
    "        \"year\": \"year\",\n",
    "        \"class\": \"is_disturbance\",\n",
    "        \"numerical_id\": \"forest_id\",\n",
    "        \"BLU\": \"blue\",\n",
    "        \"GRN\": \"green\",\n",
    "        \"RED\": \"red\",\n",
    "        \"NIR\": \"near_infrared\",\n",
    "        \"SW1\": \"shortwave_infrared_1\",\n",
    "        \"SW2\": \"shortwave_infrared_2\",\n",
    "    },\n",
    "    inplace=True,\n",
    ")"
   ]
  },
  {
   "cell_type": "code",
   "execution_count": 4,
   "id": "ff225e39",
   "metadata": {},
   "outputs": [],
   "source": [
    "def sliding_window_delta(forest_df: pd.DataFrame, features: list, years_in_window: int = 1) -> pd.DataFrame:\n",
    "    \"\"\"\n",
    "    Create a dataframe which contains in each row the value of the features and the value of the difference between the current year's value and the value of the feature i years ago.\n",
    "    \"\"\"\n",
    "    df_sliding_window = forest_df.copy().sort_values(['forest_id', 'year'])\n",
    "\n",
    "    for feature in features:\n",
    "        if feature not in df_sliding_window.columns:\n",
    "            raise ValueError(f\"Feature '{feature}' not found in the DataFrame columns.\")\n",
    "        \n",
    "        for i in range(1, years_in_window + 1):\n",
    "            df_sliding_window[f'{feature}_delata_{i}'] = df_sliding_window.groupby('forest_id')[feature].transform(\n",
    "        lambda x: x - x.shift(i)\n",
    "    )\n",
    "\n",
    "\n",
    "    return df_sliding_window\n",
    "\n",
    "   "
   ]
  },
  {
   "cell_type": "code",
   "execution_count": 7,
   "id": "594f247e",
   "metadata": {},
   "outputs": [],
   "source": [
    "df_test_sliding_window = sliding_window_delta(forest_df=raw_df_test, features=['blue', 'green', 'red', 'near_infrared', 'shortwave_infrared_1', 'shortwave_infrared_2'], years_in_window=1)\n",
    "df_val_sliding_window = sliding_window_delta(forest_df=raw_df_val, features=['blue', 'green', 'red', 'near_infrared', 'shortwave_infrared_1', 'shortwave_infrared_2'], years_in_window=1)"
   ]
  },
  {
   "cell_type": "code",
   "execution_count": 15,
   "id": "d4a68961",
   "metadata": {},
   "outputs": [],
   "source": [
    "def random_forest_classifier(features,df_train, df_val, n_estimators=100, max_depth=None, random_state=42):\n",
    "    \"\"\"\n",
    "    Train and evaluate a Random Forest Classifier model.\n",
    "    \n",
    "    Args:\n",
    "        features (list): List of feature column names\n",
    "        n_estimators (int): Number of trees in the forest\n",
    "        max_depth (int): Maximum depth of the trees\n",
    "        random_state (int): Random seed for reproducibility\n",
    "        \n",
    "    Returns:\n",
    "        dict: Evaluation metrics\n",
    "    \"\"\"\n",
    "    print(f\"Features: {features}\")\n",
    "    target = 'is_disturbance'\n",
    "    \n",
    "    # Split the data into training and validation sets\n",
    "    X_train = df_train[features]\n",
    "    y_train = df_train[target]\n",
    "    X_val = df_val[features]\n",
    "    y_val = df_val[target]\n",
    "    \n",
    "    # Initialize and train the Random Forest model\n",
    "    rf = RandomForestClassifier(\n",
    "        n_estimators=n_estimators,\n",
    "        max_depth=max_depth,\n",
    "        random_state=random_state\n",
    "    )\n",
    "    rf.fit(X_train, y_train)\n",
    "    \n",
    "    # Make predictions\n",
    "    y_pred = rf.predict(X_val)\n",
    "    print(classification_report(y_true=y_val, y_pred=y_pred))\n",
    "    print(f\"F1 Score: {f1_score(y_true=y_val, y_pred=y_pred)}\")\n",
    "    print(\"Confusion Matrix:\")\n",
    "    print(confusion_matrix(y_true=y_val, y_pred=y_pred))\n",
    "    "
   ]
  },
  {
   "cell_type": "code",
   "execution_count": 16,
   "id": "c58d6a9a",
   "metadata": {},
   "outputs": [
    {
     "name": "stdout",
     "output_type": "stream",
     "text": [
      "Features: ['blue', 'green', 'red', 'near_infrared', 'shortwave_infrared_1', 'shortwave_infrared_2', 'blue_delata_1', 'green_delata_1', 'red_delata_1', 'near_infrared_delata_1', 'shortwave_infrared_1_delata_1', 'shortwave_infrared_2_delata_1']\n",
      "              precision    recall  f1-score   support\n",
      "\n",
      "           0       1.00      1.00      1.00     90382\n",
      "           1       0.61      0.24      0.35       352\n",
      "\n",
      "    accuracy                           1.00     90734\n",
      "   macro avg       0.80      0.62      0.67     90734\n",
      "weighted avg       1.00      1.00      1.00     90734\n",
      "\n",
      "F1 Score: 0.34552845528455284\n",
      "Confusion Matrix:\n",
      "[[90327    55]\n",
      " [  267    85]]\n"
     ]
    }
   ],
   "source": [
    "random_forest_classifier(\n",
    "    features=[\n",
    "        'blue',\n",
    "        'green',\n",
    "        'red',\n",
    "        'near_infrared',\n",
    "        'shortwave_infrared_1',\n",
    "        'shortwave_infrared_2',\n",
    "        'blue_delata_1',\n",
    "        'green_delata_1',\n",
    "        'red_delata_1',\n",
    "        'near_infrared_delata_1',\n",
    "        'shortwave_infrared_1_delata_1',\n",
    "        'shortwave_infrared_2_delata_1'\n",
    "    ],\n",
    "    df_train=df_test_sliding_window,\n",
    "    df_val=df_val_sliding_window,\n",
    "    n_estimators=250,\n",
    "    max_depth=None,\n",
    "    random_state=42\n",
    ")"
   ]
  },
  {
   "cell_type": "code",
   "execution_count": 17,
   "id": "c8416ccb",
   "metadata": {},
   "outputs": [],
   "source": [
    "df_test_sliding_window_delta_2 = sliding_window_delta(forest_df=raw_df_test, features=['blue', 'green', 'red', 'near_infrared', 'shortwave_infrared_1', 'shortwave_infrared_2'], years_in_window=2)\n",
    "df_val_sliding_window_delta_2 = sliding_window_delta(forest_df=raw_df_val, features=['blue', 'green', 'red', 'near_infrared', 'shortwave_infrared_1', 'shortwave_infrared_2'], years_in_window=2)"
   ]
  },
  {
   "cell_type": "code",
   "execution_count": 20,
   "id": "91399112",
   "metadata": {},
   "outputs": [
    {
     "name": "stdout",
     "output_type": "stream",
     "text": [
      "Features: ['blue', 'green', 'red', 'near_infrared', 'shortwave_infrared_1', 'shortwave_infrared_2', 'blue_delata_1', 'green_delata_1', 'red_delata_1', 'near_infrared_delata_1', 'shortwave_infrared_1_delata_1', 'shortwave_infrared_2_delata_1', 'blue_delata_2', 'green_delata_2', 'red_delata_2', 'near_infrared_delata_2', 'shortwave_infrared_1_delata_2', 'shortwave_infrared_2_delata_2']\n",
      "              precision    recall  f1-score   support\n",
      "\n",
      "           0       1.00      1.00      1.00     90382\n",
      "           1       0.67      0.30      0.42       352\n",
      "\n",
      "    accuracy                           1.00     90734\n",
      "   macro avg       0.83      0.65      0.71     90734\n",
      "weighted avg       1.00      1.00      1.00     90734\n",
      "\n",
      "F1 Score: 0.41796875\n",
      "Confusion Matrix:\n",
      "[[90329    53]\n",
      " [  245   107]]\n"
     ]
    }
   ],
   "source": [
    "random_forest_classifier(\n",
    "    features=[\n",
    "        'blue',\n",
    "        'green',\n",
    "        'red',\n",
    "        'near_infrared',\n",
    "        'shortwave_infrared_1',\n",
    "        'shortwave_infrared_2',\n",
    "        'blue_delata_1',\n",
    "        'green_delata_1',\n",
    "        'red_delata_1',\n",
    "        'near_infrared_delata_1',\n",
    "        'shortwave_infrared_1_delata_1',\n",
    "        'shortwave_infrared_2_delata_1',\n",
    "        'blue_delata_2',\n",
    "        'green_delata_2',\n",
    "        'red_delata_2',\n",
    "        'near_infrared_delata_2',\n",
    "        'shortwave_infrared_1_delata_2',\n",
    "        'shortwave_infrared_2_delata_2'\n",
    "    ],\n",
    "    df_train=df_test_sliding_window_delta_2,\n",
    "    df_val=df_val_sliding_window_delta_2,\n",
    "    n_estimators=500,\n",
    "    max_depth=None,\n",
    "    random_state=42\n",
    ")"
   ]
  },
  {
   "cell_type": "code",
   "execution_count": null,
   "id": "cf491cd7",
   "metadata": {},
   "outputs": [],
   "source": []
  }
 ],
 "metadata": {
  "kernelspec": {
   "display_name": "venv",
   "language": "python",
   "name": "python3"
  },
  "language_info": {
   "codemirror_mode": {
    "name": "ipython",
    "version": 3
   },
   "file_extension": ".py",
   "mimetype": "text/x-python",
   "name": "python",
   "nbconvert_exporter": "python",
   "pygments_lexer": "ipython3",
   "version": "3.12.3"
  }
 },
 "nbformat": 4,
 "nbformat_minor": 5
}
